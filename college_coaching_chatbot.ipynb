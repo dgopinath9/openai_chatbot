{
 "cells": [
  {
   "cell_type": "markdown",
   "metadata": {},
   "source": [
    "# College Coaching Chatbot\n",
    "\n",
    "This script uses the OpenAI API to create a chatbot that acts as a college counselor who helps students find colleges that fit their background and interests. The chatbot asks a series of questions to the student about academics, career, extra-curriculars, and college preferences, and then generates a list of five colleges or universities that would be a good fit for the student, along with the reasoning behind each suggestion. It then generates a JSON array summarizing key details about the student and the college recommendations it makes.   "
   ]
  },
  {
   "cell_type": "code",
   "execution_count": 1,
   "metadata": {},
   "outputs": [],
   "source": [
    "import openai\n",
    "import os\n",
    "\n",
    "from dotenv import load_dotenv, find_dotenv\n",
    "_ = load_dotenv(find_dotenv()) # read local .env file\n",
    "\n",
    "openai.api_key  = os.getenv('OPENAI_API_KEY')\n"
   ]
  },
  {
   "cell_type": "code",
   "execution_count": 2,
   "metadata": {},
   "outputs": [],
   "source": [
    "def get_completion_from_messages(messages, model=\"gpt-3.5-turbo\", temperature=0):\n",
    "    response = openai.ChatCompletion.create(\n",
    "        model=model,\n",
    "        messages=messages,\n",
    "        temperature=temperature, # this is the degree of randomness of the model's output\n",
    "    )\n",
    "#     print(str(response.choices[0].message))\n",
    "    return response.choices[0].message[\"content\"]"
   ]
  },
  {
   "cell_type": "code",
   "execution_count": 3,
   "metadata": {},
   "outputs": [],
   "source": [
    "def collect_messages(_):\n",
    "    prompt = inp.value_input\n",
    "    inp.value = ''\n",
    "    context.append({'role':'user', 'content':f\"{prompt}\"})\n",
    "    response = get_completion_from_messages(context) \n",
    "    context.append({'role':'assistant', 'content':f\"{response}\"})\n",
    "    panels.append(\n",
    "        pn.Row('User:', pn.pane.Markdown(prompt, width=600)))\n",
    "    panels.append(\n",
    "        pn.Row('Assistant:', pn.pane.Markdown(response, width=600, style={'background-color': '#F6F6F6'})))\n",
    "    return pn.Column(*panels)\n"
   ]
  },
  {
   "cell_type": "code",
   "execution_count": null,
   "metadata": {},
   "outputs": [],
   "source": [
    "import panel as pn  # GUI\n",
    "pn.extension()\n",
    "\n",
    "panels = [] # collect display \n",
    "\n",
    "context = [ {'role':'system', 'content':\"\"\"\n",
    "You are a college counselor for high school students in the US and your role is to guide students with selecting colleges\n",
    "based on their interests and preferences. \\\n",
    "The  user will be a high school student who has come to you for advice regarding the college selection process. \\\n",
    "You wait to gather information from the user and then come up with a list of colleges that fit the user's profile. \\\n",
    "You first greet the user and ask how much they've thought about college so far. \\\n",
    "Then, have a conversation with the user to gather the following information:  \\\n",
    "- what subjects they are interested in \\\n",
    "- what they think they might want to major in in college \\\n",
    "- what career they might want to pursue after college \\\n",
    "- their academic standing (grades, GPA, test scores, etc.) \\\n",
    "- their extracurricular activities or sports \\\n",
    "- extracurricular activies or sports they want to pursue in college \\\n",
    "- what kind of college environment they're looking for (e.g. big state school vs. \\\n",
    " small liberal arts colleges vs. elite R1 universities, etc.) \\\n",
    "- which region of the US they want to be in \\\n",
    "- whether they want to be in an urban or rural environment \\\n",
    "Ask only one question at a time and acknowledge the user's responses to each before asking the next question. \\\n",
    "If the user asks you a question about, respond to the best of your ability with kindness and honesty. Show enthusiasm for the \n",
    "user's responses and make sure to maintain a positive and encouraging tone. \\\n",
    "Once you've gathered this information, come up with a list of 5 potential colleges that match the user's responses, \\\n",
    "taking into account their academic and extra-curricular interests, preferences, and academic qualifications. \\\n",
    "Give a short description about why you think each of these five colleges will be a good match for the student. \n",
    "\n",
    "\"\"\"} ]  # accumulate messages\n",
    "\n",
    "\n",
    "inp = pn.widgets.TextInput(value=\"Hi\", placeholder='Enter text here…')\n",
    "button_conversation = pn.widgets.Button(name=\"Chat!\")\n",
    "\n",
    "interactive_conversation = pn.bind(collect_messages, button_conversation)\n",
    "\n",
    "dashboard = pn.Column(\n",
    "    inp,\n",
    "    pn.Row(button_conversation),\n",
    "    pn.panel(interactive_conversation, loading_indicator=True, height=300),\n",
    ")\n",
    "\n",
    "dashboard"
   ]
  },
  {
   "cell_type": "code",
   "execution_count": null,
   "metadata": {},
   "outputs": [],
   "source": [
    "messages =  context.copy()\n",
    "messages.append(\n",
    "{'role':'system', 'content':\"\"\"\n",
    "create a json summary of the previous conversation with the student. The fields should be\\\n",
    "1) amount the student has thought about college: not at all, a bit, a good amount, a lot,\\\n",
    "2) what they want to major in \\\n",
    "3) what career they're interested in \\\n",
    "4) what region of the US they want to be in \\\n",
    "5) their academic standing: below average, average, above average, exceptional \\\n",
    "6) a json list of the five colleges you recommended along with the reasons each would be a good fit for the student \\\n",
    "\"\"\"},    \n",
    ")\n",
    "\n",
    "response = get_completion_from_messages(messages, temperature=0)\n",
    "print(response)"
   ]
  }
 ],
 "metadata": {
  "kernelspec": {
   "display_name": "Python 3 (ipykernel)",
   "language": "python",
   "name": "python3"
  },
  "language_info": {
   "codemirror_mode": {
    "name": "ipython",
    "version": 3
   },
   "file_extension": ".py",
   "mimetype": "text/x-python",
   "name": "python",
   "nbconvert_exporter": "python",
   "pygments_lexer": "ipython3",
   "version": "3.10.10"
  },
  "vscode": {
   "interpreter": {
    "hash": "949777d72b0d2535278d3dc13498b2535136f6dfe0678499012e853ee9abcab1"
   }
  }
 },
 "nbformat": 4,
 "nbformat_minor": 2
}
